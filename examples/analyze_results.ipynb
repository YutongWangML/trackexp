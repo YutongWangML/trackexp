{
 "cells": [
  {
   "cell_type": "code",
   "execution_count": 1,
   "id": "4c8034f5-d28a-4331-b941-2d0063d30440",
   "metadata": {
    "collapsed": false,
    "jupyter": {
     "outputs_hidden": false
    }
   },
   "outputs": [],
   "source": [
    "import trackexp\n",
    "from trackexp.utils import get_data, get_metadata, list_experiments\n",
    "import pandas as pd\n",
    "import matplotlib.pyplot as plt"
   ]
  },
  {
   "cell_type": "code",
   "execution_count": 2,
   "id": "cbf29636-ab3b-4a81-8cb7-682fe563c3b1",
   "metadata": {
    "collapsed": false,
    "jupyter": {
     "outputs_hidden": false
    }
   },
   "outputs": [
    {
     "data": {
      "text/html": [
       "<div>\n",
       "<style scoped>\n",
       "    .dataframe tbody tr th:only-of-type {\n",
       "        vertical-align: middle;\n",
       "    }\n",
       "\n",
       "    .dataframe tbody tr th {\n",
       "        vertical-align: top;\n",
       "    }\n",
       "\n",
       "    .dataframe thead th {\n",
       "        text-align: right;\n",
       "    }\n",
       "</style>\n",
       "<table border=\"1\" class=\"dataframe\">\n",
       "  <thead>\n",
       "    <tr style=\"text-align: right;\">\n",
       "      <th>name</th>\n",
       "      <th>identifier</th>\n",
       "      <th>test_accuracy</th>\n",
       "      <th>test_loss</th>\n",
       "    </tr>\n",
       "  </thead>\n",
       "  <tbody>\n",
       "    <tr>\n",
       "      <th>0</th>\n",
       "      <td>None</td>\n",
       "      <td>0.956522</td>\n",
       "      <td>0.24489</td>\n",
       "    </tr>\n",
       "  </tbody>\n",
       "</table>\n",
       "</div>"
      ],
      "text/plain": [
       "name identifier  test_accuracy  test_loss\n",
       "0          None       0.956522    0.24489"
      ]
     },
     "execution_count": 2,
     "metadata": {},
     "output_type": "execute_result"
    }
   ],
   "source": [
    "df_trn = get_data('iris_classification', context = 'training')\n",
    "df_trn_inner = get_data('iris_classification', context = 'training_inner')\n",
    "df_val = get_data('iris_classification', context = 'validation')\n",
    "df_tst = get_data('iris_classification', context = 'metrics')\n",
    "df_tst"
   ]
  },
  {
   "cell_type": "code",
   "execution_count": 3,
   "id": "55943d15-4e88-4092-b01f-9aa4aa8b2f1f",
   "metadata": {},
   "outputs": [
    {
     "data": {
      "text/html": [
       "<div>\n",
       "<style scoped>\n",
       "    .dataframe tbody tr th:only-of-type {\n",
       "        vertical-align: middle;\n",
       "    }\n",
       "\n",
       "    .dataframe tbody tr th {\n",
       "        vertical-align: top;\n",
       "    }\n",
       "\n",
       "    .dataframe thead th {\n",
       "        text-align: right;\n",
       "    }\n",
       "</style>\n",
       "<table border=\"1\" class=\"dataframe\">\n",
       "  <thead>\n",
       "    <tr style=\"text-align: right;\">\n",
       "      <th>name</th>\n",
       "      <th>identifier</th>\n",
       "      <th>elapsed_time</th>\n",
       "      <th>logits</th>\n",
       "      <th>loss</th>\n",
       "    </tr>\n",
       "  </thead>\n",
       "  <tbody>\n",
       "    <tr>\n",
       "      <th>0</th>\n",
       "      <td>0</td>\n",
       "      <td>0.022801</td>\n",
       "      <td>[[-0.21454968, -0.741261, 0.2898603], [-0.6902...</td>\n",
       "      <td>0.973453</td>\n",
       "    </tr>\n",
       "    <tr>\n",
       "      <th>1</th>\n",
       "      <td>1</td>\n",
       "      <td>0.007203</td>\n",
       "      <td>[[-0.856535, -0.22183459, 0.17031193], [-0.977...</td>\n",
       "      <td>0.928511</td>\n",
       "    </tr>\n",
       "    <tr>\n",
       "      <th>2</th>\n",
       "      <td>10</td>\n",
       "      <td>0.009863</td>\n",
       "      <td>[[-1.6534469, -0.044639155, 0.8696261], [-0.75...</td>\n",
       "      <td>0.631609</td>\n",
       "    </tr>\n",
       "    <tr>\n",
       "      <th>3</th>\n",
       "      <td>11</td>\n",
       "      <td>0.010048</td>\n",
       "      <td>[[-1.0377865, -0.07483463, 0.5592387], [0.8012...</td>\n",
       "      <td>0.610987</td>\n",
       "    </tr>\n",
       "    <tr>\n",
       "      <th>4</th>\n",
       "      <td>12</td>\n",
       "      <td>0.010609</td>\n",
       "      <td>[[-1.0109146, -0.26599702, 0.3648453], [-0.619...</td>\n",
       "      <td>0.591017</td>\n",
       "    </tr>\n",
       "    <tr>\n",
       "      <th>...</th>\n",
       "      <td>...</td>\n",
       "      <td>...</td>\n",
       "      <td>...</td>\n",
       "      <td>...</td>\n",
       "    </tr>\n",
       "    <tr>\n",
       "      <th>95</th>\n",
       "      <td>95</td>\n",
       "      <td>0.011576</td>\n",
       "      <td>[[-2.520054, 0.641948, 1.1855723], [-2.7662044...</td>\n",
       "      <td>0.2153</td>\n",
       "    </tr>\n",
       "    <tr>\n",
       "      <th>96</th>\n",
       "      <td>96</td>\n",
       "      <td>0.010375</td>\n",
       "      <td>[[3.1606226, -1.2381184, -3.0932074], [-1.9818...</td>\n",
       "      <td>0.214342</td>\n",
       "    </tr>\n",
       "    <tr>\n",
       "      <th>97</th>\n",
       "      <td>97</td>\n",
       "      <td>0.010986</td>\n",
       "      <td>[[-2.537082, 0.67219853, 1.1687262], [-2.14985...</td>\n",
       "      <td>0.212152</td>\n",
       "    </tr>\n",
       "    <tr>\n",
       "      <th>98</th>\n",
       "      <td>98</td>\n",
       "      <td>0.010633</td>\n",
       "      <td>[[-1.5614244, 1.6027197, -0.8603939], [3.44255...</td>\n",
       "      <td>0.210861</td>\n",
       "    </tr>\n",
       "    <tr>\n",
       "      <th>99</th>\n",
       "      <td>99</td>\n",
       "      <td>0.011543</td>\n",
       "      <td>[[-2.977331, 1.2625382, 1.301629], [-3.2789845...</td>\n",
       "      <td>0.208603</td>\n",
       "    </tr>\n",
       "  </tbody>\n",
       "</table>\n",
       "<p>100 rows × 4 columns</p>\n",
       "</div>"
      ],
      "text/plain": [
       "name identifier elapsed_time  \\\n",
       "0             0     0.022801   \n",
       "1             1     0.007203   \n",
       "2            10     0.009863   \n",
       "3            11     0.010048   \n",
       "4            12     0.010609   \n",
       "..          ...          ...   \n",
       "95           95     0.011576   \n",
       "96           96     0.010375   \n",
       "97           97     0.010986   \n",
       "98           98     0.010633   \n",
       "99           99     0.011543   \n",
       "\n",
       "name                                             logits      loss  \n",
       "0     [[-0.21454968, -0.741261, 0.2898603], [-0.6902...  0.973453  \n",
       "1     [[-0.856535, -0.22183459, 0.17031193], [-0.977...  0.928511  \n",
       "2     [[-1.6534469, -0.044639155, 0.8696261], [-0.75...  0.631609  \n",
       "3     [[-1.0377865, -0.07483463, 0.5592387], [0.8012...  0.610987  \n",
       "4     [[-1.0109146, -0.26599702, 0.3648453], [-0.619...  0.591017  \n",
       "..                                                  ...       ...  \n",
       "95    [[-2.520054, 0.641948, 1.1855723], [-2.7662044...    0.2153  \n",
       "96    [[3.1606226, -1.2381184, -3.0932074], [-1.9818...  0.214342  \n",
       "97    [[-2.537082, 0.67219853, 1.1687262], [-2.14985...  0.212152  \n",
       "98    [[-1.5614244, 1.6027197, -0.8603939], [3.44255...  0.210861  \n",
       "99    [[-2.977331, 1.2625382, 1.301629], [-3.2789845...  0.208603  \n",
       "\n",
       "[100 rows x 4 columns]"
      ]
     },
     "execution_count": 3,
     "metadata": {},
     "output_type": "execute_result"
    }
   ],
   "source": [
    "df_trn"
   ]
  },
  {
   "cell_type": "code",
   "execution_count": 7,
   "id": "ba47ed67-becf-4607-87a0-c4210a258a4d",
   "metadata": {
    "collapsed": false,
    "jupyter": {
     "outputs_hidden": false
    }
   },
   "outputs": [
    {
     "data": {
      "text/plain": [
       "[<matplotlib.lines.Line2D at 0x166074500>]"
      ]
     },
     "execution_count": 7,
     "metadata": {},
     "output_type": "execute_result"
    },
    {
     "data": {
      "image/png": "[encoded data removed]",
      "text/plain": [
       "<Figure size 640x480 with 1 Axes>"
      ]
     },
     "metadata": {},
     "output_type": "display_data"
    }
   ],
   "source": [
    "plt.plot(df_trn['elapsed_time'].cumsum(), df_trn['loss'])\n",
    "# plt.plot(df_trn_inner['elapsed_time'].cumsum(), df_trn_inner['loss'])\n"
   ]
  },
  {
   "cell_type": "code",
   "execution_count": 8,
   "id": "6e56530c-4179-42b5-9358-e858453d5dc6",
   "metadata": {},
   "outputs": [
    {
     "data": {
      "text/plain": [
       "0     0.022801\n",
       "1     0.030004\n",
       "2     0.039867\n",
       "3     0.049915\n",
       "4     0.060524\n",
       "        ...   \n",
       "95    1.020012\n",
       "96    1.030386\n",
       "97    1.041372\n",
       "98    1.052005\n",
       "99    1.063548\n",
       "Name: elapsed_time, Length: 100, dtype: object"
      ]
     },
     "execution_count": 8,
     "metadata": {},
     "output_type": "execute_result"
    }
   ],
   "source": [
    "df_trn['elapsed_time'].cumsum()"
   ]
  },
  {
   "cell_type": "code",
   "execution_count": null,
   "id": "a502d073-57ac-4d14-8a7d-b4d1a1a08c4e",
   "metadata": {},
   "outputs": [],
   "source": []
  }
 ],
 "metadata": {
  "kernelspec": {
   "display_name": "Python 3 (ipykernel)",
   "language": "python",
   "name": "python3"
  },
  "language_info": {
   "codemirror_mode": {
    "name": "ipython",
    "version": 3
   },
   "file_extension": ".py",
   "mimetype": "text/x-python",
   "name": "python",
   "nbconvert_exporter": "python",
   "pygments_lexer": "ipython3",
   "version": "3.12.5"
  },
  "name": "analyze_results.ipynb"
 },
 "nbformat": 4,
 "nbformat_minor": 5
}
